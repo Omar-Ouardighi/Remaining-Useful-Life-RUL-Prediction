{
  "nbformat": 4,
  "nbformat_minor": 0,
  "metadata": {
    "colab": {
      "name": "CMAPSS_FD001_classical_ml.ipynb",
      "provenance": [],
      "mount_file_id": "1nr2T4WIpUfSsdweqFHgWfMYMTi2i-G2O",
      "authorship_tag": "ABX9TyOLDPJmJmw/v2RhYZyDp0oa",
      "include_colab_link": true
    },
    "kernelspec": {
      "name": "python3",
      "display_name": "Python 3"
    },
    "language_info": {
      "name": "python"
    }
  },
  "cells": [
    {
      "cell_type": "markdown",
      "metadata": {
        "id": "view-in-github",
        "colab_type": "text"
      },
      "source": [
        "<a href=\"https://colab.research.google.com/github/Omar-Ouardighi/Remaining-Useful-Life-RUL-Prediction/blob/main/CMAPSS_FD001_classical_ml.ipynb\" target=\"_parent\"><img src=\"https://colab.research.google.com/assets/colab-badge.svg\" alt=\"Open In Colab\"/></a>"
      ]
    },
    {
      "cell_type": "markdown",
      "metadata": {
        "id": "8T44jrMVwNq9"
      },
      "source": [
        "# Remaining Useful Life (RUL) Prediction\n",
        "\n",
        "In this notebook, we will apply SVR, RandomForestRegressor to predict RUL of NASA's turbofan engine dataset FD001."
      ]
    },
    {
      "cell_type": "code",
      "metadata": {
        "id": "THyN_V6Ef7uB"
      },
      "source": [
        "import numpy as np\n",
        "import pandas as pd\n",
        "import matplotlib.pyplot as plt\n",
        "import seaborn as sns\n",
        "from sklearn.preprocessing import StandardScaler, MinMaxScaler"
      ],
      "execution_count": 1,
      "outputs": []
    },
    {
      "cell_type": "code",
      "metadata": {
        "colab": {
          "base_uri": "https://localhost:8080/",
          "height": 226
        },
        "id": "uOZUFkhNhURB",
        "outputId": "c2ae2abf-f52b-4014-d666-a0dfb501f9ef"
      },
      "source": [
        "train_df = pd.read_csv('/content/drive/MyDrive/CMAPSSData/train_FD001.txt', sep='\\s+', header=None)\n",
        "train_df.head()"
      ],
      "execution_count": 2,
      "outputs": [
        {
          "output_type": "execute_result",
          "data": {
            "text/html": [
              "<div>\n",
              "<style scoped>\n",
              "    .dataframe tbody tr th:only-of-type {\n",
              "        vertical-align: middle;\n",
              "    }\n",
              "\n",
              "    .dataframe tbody tr th {\n",
              "        vertical-align: top;\n",
              "    }\n",
              "\n",
              "    .dataframe thead th {\n",
              "        text-align: right;\n",
              "    }\n",
              "</style>\n",
              "<table border=\"1\" class=\"dataframe\">\n",
              "  <thead>\n",
              "    <tr style=\"text-align: right;\">\n",
              "      <th></th>\n",
              "      <th>0</th>\n",
              "      <th>1</th>\n",
              "      <th>2</th>\n",
              "      <th>3</th>\n",
              "      <th>4</th>\n",
              "      <th>5</th>\n",
              "      <th>6</th>\n",
              "      <th>7</th>\n",
              "      <th>8</th>\n",
              "      <th>9</th>\n",
              "      <th>10</th>\n",
              "      <th>11</th>\n",
              "      <th>12</th>\n",
              "      <th>13</th>\n",
              "      <th>14</th>\n",
              "      <th>15</th>\n",
              "      <th>16</th>\n",
              "      <th>17</th>\n",
              "      <th>18</th>\n",
              "      <th>19</th>\n",
              "      <th>20</th>\n",
              "      <th>21</th>\n",
              "      <th>22</th>\n",
              "      <th>23</th>\n",
              "      <th>24</th>\n",
              "      <th>25</th>\n",
              "    </tr>\n",
              "  </thead>\n",
              "  <tbody>\n",
              "    <tr>\n",
              "      <th>0</th>\n",
              "      <td>1</td>\n",
              "      <td>1</td>\n",
              "      <td>-0.0007</td>\n",
              "      <td>-0.0004</td>\n",
              "      <td>100.0</td>\n",
              "      <td>518.67</td>\n",
              "      <td>641.82</td>\n",
              "      <td>1589.70</td>\n",
              "      <td>1400.60</td>\n",
              "      <td>14.62</td>\n",
              "      <td>21.61</td>\n",
              "      <td>554.36</td>\n",
              "      <td>2388.06</td>\n",
              "      <td>9046.19</td>\n",
              "      <td>1.3</td>\n",
              "      <td>47.47</td>\n",
              "      <td>521.66</td>\n",
              "      <td>2388.02</td>\n",
              "      <td>8138.62</td>\n",
              "      <td>8.4195</td>\n",
              "      <td>0.03</td>\n",
              "      <td>392</td>\n",
              "      <td>2388</td>\n",
              "      <td>100.0</td>\n",
              "      <td>39.06</td>\n",
              "      <td>23.4190</td>\n",
              "    </tr>\n",
              "    <tr>\n",
              "      <th>1</th>\n",
              "      <td>1</td>\n",
              "      <td>2</td>\n",
              "      <td>0.0019</td>\n",
              "      <td>-0.0003</td>\n",
              "      <td>100.0</td>\n",
              "      <td>518.67</td>\n",
              "      <td>642.15</td>\n",
              "      <td>1591.82</td>\n",
              "      <td>1403.14</td>\n",
              "      <td>14.62</td>\n",
              "      <td>21.61</td>\n",
              "      <td>553.75</td>\n",
              "      <td>2388.04</td>\n",
              "      <td>9044.07</td>\n",
              "      <td>1.3</td>\n",
              "      <td>47.49</td>\n",
              "      <td>522.28</td>\n",
              "      <td>2388.07</td>\n",
              "      <td>8131.49</td>\n",
              "      <td>8.4318</td>\n",
              "      <td>0.03</td>\n",
              "      <td>392</td>\n",
              "      <td>2388</td>\n",
              "      <td>100.0</td>\n",
              "      <td>39.00</td>\n",
              "      <td>23.4236</td>\n",
              "    </tr>\n",
              "    <tr>\n",
              "      <th>2</th>\n",
              "      <td>1</td>\n",
              "      <td>3</td>\n",
              "      <td>-0.0043</td>\n",
              "      <td>0.0003</td>\n",
              "      <td>100.0</td>\n",
              "      <td>518.67</td>\n",
              "      <td>642.35</td>\n",
              "      <td>1587.99</td>\n",
              "      <td>1404.20</td>\n",
              "      <td>14.62</td>\n",
              "      <td>21.61</td>\n",
              "      <td>554.26</td>\n",
              "      <td>2388.08</td>\n",
              "      <td>9052.94</td>\n",
              "      <td>1.3</td>\n",
              "      <td>47.27</td>\n",
              "      <td>522.42</td>\n",
              "      <td>2388.03</td>\n",
              "      <td>8133.23</td>\n",
              "      <td>8.4178</td>\n",
              "      <td>0.03</td>\n",
              "      <td>390</td>\n",
              "      <td>2388</td>\n",
              "      <td>100.0</td>\n",
              "      <td>38.95</td>\n",
              "      <td>23.3442</td>\n",
              "    </tr>\n",
              "    <tr>\n",
              "      <th>3</th>\n",
              "      <td>1</td>\n",
              "      <td>4</td>\n",
              "      <td>0.0007</td>\n",
              "      <td>0.0000</td>\n",
              "      <td>100.0</td>\n",
              "      <td>518.67</td>\n",
              "      <td>642.35</td>\n",
              "      <td>1582.79</td>\n",
              "      <td>1401.87</td>\n",
              "      <td>14.62</td>\n",
              "      <td>21.61</td>\n",
              "      <td>554.45</td>\n",
              "      <td>2388.11</td>\n",
              "      <td>9049.48</td>\n",
              "      <td>1.3</td>\n",
              "      <td>47.13</td>\n",
              "      <td>522.86</td>\n",
              "      <td>2388.08</td>\n",
              "      <td>8133.83</td>\n",
              "      <td>8.3682</td>\n",
              "      <td>0.03</td>\n",
              "      <td>392</td>\n",
              "      <td>2388</td>\n",
              "      <td>100.0</td>\n",
              "      <td>38.88</td>\n",
              "      <td>23.3739</td>\n",
              "    </tr>\n",
              "    <tr>\n",
              "      <th>4</th>\n",
              "      <td>1</td>\n",
              "      <td>5</td>\n",
              "      <td>-0.0019</td>\n",
              "      <td>-0.0002</td>\n",
              "      <td>100.0</td>\n",
              "      <td>518.67</td>\n",
              "      <td>642.37</td>\n",
              "      <td>1582.85</td>\n",
              "      <td>1406.22</td>\n",
              "      <td>14.62</td>\n",
              "      <td>21.61</td>\n",
              "      <td>554.00</td>\n",
              "      <td>2388.06</td>\n",
              "      <td>9055.15</td>\n",
              "      <td>1.3</td>\n",
              "      <td>47.28</td>\n",
              "      <td>522.19</td>\n",
              "      <td>2388.04</td>\n",
              "      <td>8133.80</td>\n",
              "      <td>8.4294</td>\n",
              "      <td>0.03</td>\n",
              "      <td>393</td>\n",
              "      <td>2388</td>\n",
              "      <td>100.0</td>\n",
              "      <td>38.90</td>\n",
              "      <td>23.4044</td>\n",
              "    </tr>\n",
              "  </tbody>\n",
              "</table>\n",
              "</div>"
            ],
            "text/plain": [
              "   0   1       2       3      4   ...   21    22     23     24       25\n",
              "0   1   1 -0.0007 -0.0004  100.0  ...  392  2388  100.0  39.06  23.4190\n",
              "1   1   2  0.0019 -0.0003  100.0  ...  392  2388  100.0  39.00  23.4236\n",
              "2   1   3 -0.0043  0.0003  100.0  ...  390  2388  100.0  38.95  23.3442\n",
              "3   1   4  0.0007  0.0000  100.0  ...  392  2388  100.0  38.88  23.3739\n",
              "4   1   5 -0.0019 -0.0002  100.0  ...  393  2388  100.0  38.90  23.4044\n",
              "\n",
              "[5 rows x 26 columns]"
            ]
          },
          "metadata": {},
          "execution_count": 2
        }
      ]
    },
    {
      "cell_type": "code",
      "metadata": {
        "colab": {
          "base_uri": "https://localhost:8080/"
        },
        "id": "h1T-w0wkibjW",
        "outputId": "b33b52af-c0c6-4cba-8aad-0a3b2289c99e"
      },
      "source": [
        "train_df.info()"
      ],
      "execution_count": 3,
      "outputs": [
        {
          "output_type": "stream",
          "name": "stdout",
          "text": [
            "<class 'pandas.core.frame.DataFrame'>\n",
            "RangeIndex: 20631 entries, 0 to 20630\n",
            "Data columns (total 26 columns):\n",
            " #   Column  Non-Null Count  Dtype  \n",
            "---  ------  --------------  -----  \n",
            " 0   0       20631 non-null  int64  \n",
            " 1   1       20631 non-null  int64  \n",
            " 2   2       20631 non-null  float64\n",
            " 3   3       20631 non-null  float64\n",
            " 4   4       20631 non-null  float64\n",
            " 5   5       20631 non-null  float64\n",
            " 6   6       20631 non-null  float64\n",
            " 7   7       20631 non-null  float64\n",
            " 8   8       20631 non-null  float64\n",
            " 9   9       20631 non-null  float64\n",
            " 10  10      20631 non-null  float64\n",
            " 11  11      20631 non-null  float64\n",
            " 12  12      20631 non-null  float64\n",
            " 13  13      20631 non-null  float64\n",
            " 14  14      20631 non-null  float64\n",
            " 15  15      20631 non-null  float64\n",
            " 16  16      20631 non-null  float64\n",
            " 17  17      20631 non-null  float64\n",
            " 18  18      20631 non-null  float64\n",
            " 19  19      20631 non-null  float64\n",
            " 20  20      20631 non-null  float64\n",
            " 21  21      20631 non-null  int64  \n",
            " 22  22      20631 non-null  int64  \n",
            " 23  23      20631 non-null  float64\n",
            " 24  24      20631 non-null  float64\n",
            " 25  25      20631 non-null  float64\n",
            "dtypes: float64(22), int64(4)\n",
            "memory usage: 4.1 MB\n"
          ]
        }
      ]
    },
    {
      "cell_type": "code",
      "metadata": {
        "colab": {
          "base_uri": "https://localhost:8080/",
          "height": 320
        },
        "id": "nkLv8oYjlUlz",
        "outputId": "f50d26c5-e1a3-4aeb-dfb1-4c5b0e77fe54"
      },
      "source": [
        "train_df.describe()"
      ],
      "execution_count": 4,
      "outputs": [
        {
          "output_type": "execute_result",
          "data": {
            "text/html": [
              "<div>\n",
              "<style scoped>\n",
              "    .dataframe tbody tr th:only-of-type {\n",
              "        vertical-align: middle;\n",
              "    }\n",
              "\n",
              "    .dataframe tbody tr th {\n",
              "        vertical-align: top;\n",
              "    }\n",
              "\n",
              "    .dataframe thead th {\n",
              "        text-align: right;\n",
              "    }\n",
              "</style>\n",
              "<table border=\"1\" class=\"dataframe\">\n",
              "  <thead>\n",
              "    <tr style=\"text-align: right;\">\n",
              "      <th></th>\n",
              "      <th>0</th>\n",
              "      <th>1</th>\n",
              "      <th>2</th>\n",
              "      <th>3</th>\n",
              "      <th>4</th>\n",
              "      <th>5</th>\n",
              "      <th>6</th>\n",
              "      <th>7</th>\n",
              "      <th>8</th>\n",
              "      <th>9</th>\n",
              "      <th>10</th>\n",
              "      <th>11</th>\n",
              "      <th>12</th>\n",
              "      <th>13</th>\n",
              "      <th>14</th>\n",
              "      <th>15</th>\n",
              "      <th>16</th>\n",
              "      <th>17</th>\n",
              "      <th>18</th>\n",
              "      <th>19</th>\n",
              "      <th>20</th>\n",
              "      <th>21</th>\n",
              "      <th>22</th>\n",
              "      <th>23</th>\n",
              "      <th>24</th>\n",
              "      <th>25</th>\n",
              "    </tr>\n",
              "  </thead>\n",
              "  <tbody>\n",
              "    <tr>\n",
              "      <th>count</th>\n",
              "      <td>20631.000000</td>\n",
              "      <td>20631.000000</td>\n",
              "      <td>20631.000000</td>\n",
              "      <td>20631.000000</td>\n",
              "      <td>20631.0</td>\n",
              "      <td>2.063100e+04</td>\n",
              "      <td>20631.000000</td>\n",
              "      <td>20631.000000</td>\n",
              "      <td>20631.000000</td>\n",
              "      <td>2.063100e+04</td>\n",
              "      <td>20631.000000</td>\n",
              "      <td>20631.000000</td>\n",
              "      <td>20631.000000</td>\n",
              "      <td>20631.000000</td>\n",
              "      <td>2.063100e+04</td>\n",
              "      <td>20631.000000</td>\n",
              "      <td>20631.000000</td>\n",
              "      <td>20631.000000</td>\n",
              "      <td>20631.000000</td>\n",
              "      <td>20631.000000</td>\n",
              "      <td>2.063100e+04</td>\n",
              "      <td>20631.000000</td>\n",
              "      <td>20631.0</td>\n",
              "      <td>20631.0</td>\n",
              "      <td>20631.000000</td>\n",
              "      <td>20631.000000</td>\n",
              "    </tr>\n",
              "    <tr>\n",
              "      <th>mean</th>\n",
              "      <td>51.506568</td>\n",
              "      <td>108.807862</td>\n",
              "      <td>-0.000009</td>\n",
              "      <td>0.000002</td>\n",
              "      <td>100.0</td>\n",
              "      <td>5.186700e+02</td>\n",
              "      <td>642.680934</td>\n",
              "      <td>1590.523119</td>\n",
              "      <td>1408.933782</td>\n",
              "      <td>1.462000e+01</td>\n",
              "      <td>21.609803</td>\n",
              "      <td>553.367711</td>\n",
              "      <td>2388.096652</td>\n",
              "      <td>9065.242941</td>\n",
              "      <td>1.300000e+00</td>\n",
              "      <td>47.541168</td>\n",
              "      <td>521.413470</td>\n",
              "      <td>2388.096152</td>\n",
              "      <td>8143.752722</td>\n",
              "      <td>8.442146</td>\n",
              "      <td>3.000000e-02</td>\n",
              "      <td>393.210654</td>\n",
              "      <td>2388.0</td>\n",
              "      <td>100.0</td>\n",
              "      <td>38.816271</td>\n",
              "      <td>23.289705</td>\n",
              "    </tr>\n",
              "    <tr>\n",
              "      <th>std</th>\n",
              "      <td>29.227633</td>\n",
              "      <td>68.880990</td>\n",
              "      <td>0.002187</td>\n",
              "      <td>0.000293</td>\n",
              "      <td>0.0</td>\n",
              "      <td>6.537152e-11</td>\n",
              "      <td>0.500053</td>\n",
              "      <td>6.131150</td>\n",
              "      <td>9.000605</td>\n",
              "      <td>3.394700e-12</td>\n",
              "      <td>0.001389</td>\n",
              "      <td>0.885092</td>\n",
              "      <td>0.070985</td>\n",
              "      <td>22.082880</td>\n",
              "      <td>4.660829e-13</td>\n",
              "      <td>0.267087</td>\n",
              "      <td>0.737553</td>\n",
              "      <td>0.071919</td>\n",
              "      <td>19.076176</td>\n",
              "      <td>0.037505</td>\n",
              "      <td>1.556432e-14</td>\n",
              "      <td>1.548763</td>\n",
              "      <td>0.0</td>\n",
              "      <td>0.0</td>\n",
              "      <td>0.180746</td>\n",
              "      <td>0.108251</td>\n",
              "    </tr>\n",
              "    <tr>\n",
              "      <th>min</th>\n",
              "      <td>1.000000</td>\n",
              "      <td>1.000000</td>\n",
              "      <td>-0.008700</td>\n",
              "      <td>-0.000600</td>\n",
              "      <td>100.0</td>\n",
              "      <td>5.186700e+02</td>\n",
              "      <td>641.210000</td>\n",
              "      <td>1571.040000</td>\n",
              "      <td>1382.250000</td>\n",
              "      <td>1.462000e+01</td>\n",
              "      <td>21.600000</td>\n",
              "      <td>549.850000</td>\n",
              "      <td>2387.900000</td>\n",
              "      <td>9021.730000</td>\n",
              "      <td>1.300000e+00</td>\n",
              "      <td>46.850000</td>\n",
              "      <td>518.690000</td>\n",
              "      <td>2387.880000</td>\n",
              "      <td>8099.940000</td>\n",
              "      <td>8.324900</td>\n",
              "      <td>3.000000e-02</td>\n",
              "      <td>388.000000</td>\n",
              "      <td>2388.0</td>\n",
              "      <td>100.0</td>\n",
              "      <td>38.140000</td>\n",
              "      <td>22.894200</td>\n",
              "    </tr>\n",
              "    <tr>\n",
              "      <th>25%</th>\n",
              "      <td>26.000000</td>\n",
              "      <td>52.000000</td>\n",
              "      <td>-0.001500</td>\n",
              "      <td>-0.000200</td>\n",
              "      <td>100.0</td>\n",
              "      <td>5.186700e+02</td>\n",
              "      <td>642.325000</td>\n",
              "      <td>1586.260000</td>\n",
              "      <td>1402.360000</td>\n",
              "      <td>1.462000e+01</td>\n",
              "      <td>21.610000</td>\n",
              "      <td>552.810000</td>\n",
              "      <td>2388.050000</td>\n",
              "      <td>9053.100000</td>\n",
              "      <td>1.300000e+00</td>\n",
              "      <td>47.350000</td>\n",
              "      <td>520.960000</td>\n",
              "      <td>2388.040000</td>\n",
              "      <td>8133.245000</td>\n",
              "      <td>8.414900</td>\n",
              "      <td>3.000000e-02</td>\n",
              "      <td>392.000000</td>\n",
              "      <td>2388.0</td>\n",
              "      <td>100.0</td>\n",
              "      <td>38.700000</td>\n",
              "      <td>23.221800</td>\n",
              "    </tr>\n",
              "    <tr>\n",
              "      <th>50%</th>\n",
              "      <td>52.000000</td>\n",
              "      <td>104.000000</td>\n",
              "      <td>0.000000</td>\n",
              "      <td>0.000000</td>\n",
              "      <td>100.0</td>\n",
              "      <td>5.186700e+02</td>\n",
              "      <td>642.640000</td>\n",
              "      <td>1590.100000</td>\n",
              "      <td>1408.040000</td>\n",
              "      <td>1.462000e+01</td>\n",
              "      <td>21.610000</td>\n",
              "      <td>553.440000</td>\n",
              "      <td>2388.090000</td>\n",
              "      <td>9060.660000</td>\n",
              "      <td>1.300000e+00</td>\n",
              "      <td>47.510000</td>\n",
              "      <td>521.480000</td>\n",
              "      <td>2388.090000</td>\n",
              "      <td>8140.540000</td>\n",
              "      <td>8.438900</td>\n",
              "      <td>3.000000e-02</td>\n",
              "      <td>393.000000</td>\n",
              "      <td>2388.0</td>\n",
              "      <td>100.0</td>\n",
              "      <td>38.830000</td>\n",
              "      <td>23.297900</td>\n",
              "    </tr>\n",
              "    <tr>\n",
              "      <th>75%</th>\n",
              "      <td>77.000000</td>\n",
              "      <td>156.000000</td>\n",
              "      <td>0.001500</td>\n",
              "      <td>0.000300</td>\n",
              "      <td>100.0</td>\n",
              "      <td>5.186700e+02</td>\n",
              "      <td>643.000000</td>\n",
              "      <td>1594.380000</td>\n",
              "      <td>1414.555000</td>\n",
              "      <td>1.462000e+01</td>\n",
              "      <td>21.610000</td>\n",
              "      <td>554.010000</td>\n",
              "      <td>2388.140000</td>\n",
              "      <td>9069.420000</td>\n",
              "      <td>1.300000e+00</td>\n",
              "      <td>47.700000</td>\n",
              "      <td>521.950000</td>\n",
              "      <td>2388.140000</td>\n",
              "      <td>8148.310000</td>\n",
              "      <td>8.465600</td>\n",
              "      <td>3.000000e-02</td>\n",
              "      <td>394.000000</td>\n",
              "      <td>2388.0</td>\n",
              "      <td>100.0</td>\n",
              "      <td>38.950000</td>\n",
              "      <td>23.366800</td>\n",
              "    </tr>\n",
              "    <tr>\n",
              "      <th>max</th>\n",
              "      <td>100.000000</td>\n",
              "      <td>362.000000</td>\n",
              "      <td>0.008700</td>\n",
              "      <td>0.000600</td>\n",
              "      <td>100.0</td>\n",
              "      <td>5.186700e+02</td>\n",
              "      <td>644.530000</td>\n",
              "      <td>1616.910000</td>\n",
              "      <td>1441.490000</td>\n",
              "      <td>1.462000e+01</td>\n",
              "      <td>21.610000</td>\n",
              "      <td>556.060000</td>\n",
              "      <td>2388.560000</td>\n",
              "      <td>9244.590000</td>\n",
              "      <td>1.300000e+00</td>\n",
              "      <td>48.530000</td>\n",
              "      <td>523.380000</td>\n",
              "      <td>2388.560000</td>\n",
              "      <td>8293.720000</td>\n",
              "      <td>8.584800</td>\n",
              "      <td>3.000000e-02</td>\n",
              "      <td>400.000000</td>\n",
              "      <td>2388.0</td>\n",
              "      <td>100.0</td>\n",
              "      <td>39.430000</td>\n",
              "      <td>23.618400</td>\n",
              "    </tr>\n",
              "  </tbody>\n",
              "</table>\n",
              "</div>"
            ],
            "text/plain": [
              "                 0             1   ...            24            25\n",
              "count  20631.000000  20631.000000  ...  20631.000000  20631.000000\n",
              "mean      51.506568    108.807862  ...     38.816271     23.289705\n",
              "std       29.227633     68.880990  ...      0.180746      0.108251\n",
              "min        1.000000      1.000000  ...     38.140000     22.894200\n",
              "25%       26.000000     52.000000  ...     38.700000     23.221800\n",
              "50%       52.000000    104.000000  ...     38.830000     23.297900\n",
              "75%       77.000000    156.000000  ...     38.950000     23.366800\n",
              "max      100.000000    362.000000  ...     39.430000     23.618400\n",
              "\n",
              "[8 rows x 26 columns]"
            ]
          },
          "metadata": {},
          "execution_count": 4
        }
      ]
    },
    {
      "cell_type": "code",
      "metadata": {
        "colab": {
          "base_uri": "https://localhost:8080/"
        },
        "id": "RI49uwIZiVvF",
        "outputId": "31949ebc-6d7b-401b-8a82-292de9ad4f93"
      },
      "source": [
        "len(np.unique(train_df[0]))"
      ],
      "execution_count": 5,
      "outputs": [
        {
          "output_type": "execute_result",
          "data": {
            "text/plain": [
              "100"
            ]
          },
          "metadata": {},
          "execution_count": 5
        }
      ]
    },
    {
      "cell_type": "code",
      "metadata": {
        "colab": {
          "base_uri": "https://localhost:8080/"
        },
        "id": "nZnASqkhjDpi",
        "outputId": "e9db35c6-462e-41c8-ce08-d615fc11215b"
      },
      "source": [
        "cycles_to_fail = train_df.groupby(0)[1].count()\n",
        "cycles_to_fail"
      ],
      "execution_count": 6,
      "outputs": [
        {
          "output_type": "execute_result",
          "data": {
            "text/plain": [
              "0\n",
              "1      192\n",
              "2      287\n",
              "3      179\n",
              "4      189\n",
              "5      269\n",
              "      ... \n",
              "96     336\n",
              "97     202\n",
              "98     156\n",
              "99     185\n",
              "100    200\n",
              "Name: 1, Length: 100, dtype: int64"
            ]
          },
          "metadata": {},
          "execution_count": 6
        }
      ]
    },
    {
      "cell_type": "code",
      "metadata": {
        "id": "J44Ez-0Tj5nt"
      },
      "source": [
        "def process_targets(data_length):\n",
        "    \"\"\" \n",
        "    Takes datalength (i.e., total number of cycles for each engine) and \n",
        "    creates target rul using linear degradation model.\n",
        "    \"\"\"\n",
        "    return np.arange(data_length-1, -1, -1)\n",
        "    "
      ],
      "execution_count": 7,
      "outputs": []
    },
    {
      "cell_type": "markdown",
      "metadata": {
        "id": "zoZDvKHCmJ6g"
      },
      "source": [
        "\n",
        "Now for any engine, we can find RUL values for both models. For example, we will take engine 4. From above we find that engine 4 fails after 189 cycles. So its data_length is 189.\n"
      ]
    },
    {
      "cell_type": "code",
      "metadata": {
        "colab": {
          "base_uri": "https://localhost:8080/",
          "height": 299
        },
        "id": "B4zdBzDol4kW",
        "outputId": "e2f9548a-1a4c-49fd-fc88-2305bb2dcdb5"
      },
      "source": [
        "engin4_lr_degredation_rul = process_targets(189)\n",
        "plt.plot(engin4_lr_degredation_rul)\n",
        "plt.title('Linear degradation model (engine 4)')"
      ],
      "execution_count": 8,
      "outputs": [
        {
          "output_type": "execute_result",
          "data": {
            "text/plain": [
              "Text(0.5, 1.0, 'Linear degradation model (engine 4)')"
            ]
          },
          "metadata": {},
          "execution_count": 8
        },
        {
          "output_type": "display_data",
          "data": {
            "image/png": "[encoded data removed]",
            "text/plain": [
              "<Figure size 432x288 with 1 Axes>"
            ]
          },
          "metadata": {
            "needs_background": "light"
          }
        }
      ]
    },
    {
      "cell_type": "markdown",
      "metadata": {
        "id": "aW0sepjYokYe"
      },
      "source": [
        "\n",
        "# importing Test data and Rul values\n",
        "\n",
        "Test data are similar to train data with only one difference. While for training data, data are available until failure for each engine, for test data, it is available for an arbitrary number of cycles. Using the given test data, out goal is to predict RUL. For test data, true RUL values are also available so that we can compare the performance of our prediction algorithm.\n"
      ]
    },
    {
      "cell_type": "code",
      "metadata": {
        "colab": {
          "base_uri": "https://localhost:8080/",
          "height": 244
        },
        "id": "KRItYesqnlZS",
        "outputId": "21897483-db6f-4bc3-a97f-1ebcb7902eca"
      },
      "source": [
        "test_df = pd.read_csv('/content/drive/MyDrive/CMAPSSData/test_FD001.txt', sep='\\s+', header=None)\n",
        "print(test_df.shape)\n",
        "test_df.head()"
      ],
      "execution_count": 9,
      "outputs": [
        {
          "output_type": "stream",
          "name": "stdout",
          "text": [
            "(13096, 26)\n"
          ]
        },
        {
          "output_type": "execute_result",
          "data": {
            "text/html": [
              "<div>\n",
              "<style scoped>\n",
              "    .dataframe tbody tr th:only-of-type {\n",
              "        vertical-align: middle;\n",
              "    }\n",
              "\n",
              "    .dataframe tbody tr th {\n",
              "        vertical-align: top;\n",
              "    }\n",
              "\n",
              "    .dataframe thead th {\n",
              "        text-align: right;\n",
              "    }\n",
              "</style>\n",
              "<table border=\"1\" class=\"dataframe\">\n",
              "  <thead>\n",
              "    <tr style=\"text-align: right;\">\n",
              "      <th></th>\n",
              "      <th>0</th>\n",
              "      <th>1</th>\n",
              "      <th>2</th>\n",
              "      <th>3</th>\n",
              "      <th>4</th>\n",
              "      <th>5</th>\n",
              "      <th>6</th>\n",
              "      <th>7</th>\n",
              "      <th>8</th>\n",
              "      <th>9</th>\n",
              "      <th>10</th>\n",
              "      <th>11</th>\n",
              "      <th>12</th>\n",
              "      <th>13</th>\n",
              "      <th>14</th>\n",
              "      <th>15</th>\n",
              "      <th>16</th>\n",
              "      <th>17</th>\n",
              "      <th>18</th>\n",
              "      <th>19</th>\n",
              "      <th>20</th>\n",
              "      <th>21</th>\n",
              "      <th>22</th>\n",
              "      <th>23</th>\n",
              "      <th>24</th>\n",
              "      <th>25</th>\n",
              "    </tr>\n",
              "  </thead>\n",
              "  <tbody>\n",
              "    <tr>\n",
              "      <th>0</th>\n",
              "      <td>1</td>\n",
              "      <td>1</td>\n",
              "      <td>0.0023</td>\n",
              "      <td>0.0003</td>\n",
              "      <td>100.0</td>\n",
              "      <td>518.67</td>\n",
              "      <td>643.02</td>\n",
              "      <td>1585.29</td>\n",
              "      <td>1398.21</td>\n",
              "      <td>14.62</td>\n",
              "      <td>21.61</td>\n",
              "      <td>553.90</td>\n",
              "      <td>2388.04</td>\n",
              "      <td>9050.17</td>\n",
              "      <td>1.3</td>\n",
              "      <td>47.20</td>\n",
              "      <td>521.72</td>\n",
              "      <td>2388.03</td>\n",
              "      <td>8125.55</td>\n",
              "      <td>8.4052</td>\n",
              "      <td>0.03</td>\n",
              "      <td>392</td>\n",
              "      <td>2388</td>\n",
              "      <td>100.0</td>\n",
              "      <td>38.86</td>\n",
              "      <td>23.3735</td>\n",
              "    </tr>\n",
              "    <tr>\n",
              "      <th>1</th>\n",
              "      <td>1</td>\n",
              "      <td>2</td>\n",
              "      <td>-0.0027</td>\n",
              "      <td>-0.0003</td>\n",
              "      <td>100.0</td>\n",
              "      <td>518.67</td>\n",
              "      <td>641.71</td>\n",
              "      <td>1588.45</td>\n",
              "      <td>1395.42</td>\n",
              "      <td>14.62</td>\n",
              "      <td>21.61</td>\n",
              "      <td>554.85</td>\n",
              "      <td>2388.01</td>\n",
              "      <td>9054.42</td>\n",
              "      <td>1.3</td>\n",
              "      <td>47.50</td>\n",
              "      <td>522.16</td>\n",
              "      <td>2388.06</td>\n",
              "      <td>8139.62</td>\n",
              "      <td>8.3803</td>\n",
              "      <td>0.03</td>\n",
              "      <td>393</td>\n",
              "      <td>2388</td>\n",
              "      <td>100.0</td>\n",
              "      <td>39.02</td>\n",
              "      <td>23.3916</td>\n",
              "    </tr>\n",
              "    <tr>\n",
              "      <th>2</th>\n",
              "      <td>1</td>\n",
              "      <td>3</td>\n",
              "      <td>0.0003</td>\n",
              "      <td>0.0001</td>\n",
              "      <td>100.0</td>\n",
              "      <td>518.67</td>\n",
              "      <td>642.46</td>\n",
              "      <td>1586.94</td>\n",
              "      <td>1401.34</td>\n",
              "      <td>14.62</td>\n",
              "      <td>21.61</td>\n",
              "      <td>554.11</td>\n",
              "      <td>2388.05</td>\n",
              "      <td>9056.96</td>\n",
              "      <td>1.3</td>\n",
              "      <td>47.50</td>\n",
              "      <td>521.97</td>\n",
              "      <td>2388.03</td>\n",
              "      <td>8130.10</td>\n",
              "      <td>8.4441</td>\n",
              "      <td>0.03</td>\n",
              "      <td>393</td>\n",
              "      <td>2388</td>\n",
              "      <td>100.0</td>\n",
              "      <td>39.08</td>\n",
              "      <td>23.4166</td>\n",
              "    </tr>\n",
              "    <tr>\n",
              "      <th>3</th>\n",
              "      <td>1</td>\n",
              "      <td>4</td>\n",
              "      <td>0.0042</td>\n",
              "      <td>0.0000</td>\n",
              "      <td>100.0</td>\n",
              "      <td>518.67</td>\n",
              "      <td>642.44</td>\n",
              "      <td>1584.12</td>\n",
              "      <td>1406.42</td>\n",
              "      <td>14.62</td>\n",
              "      <td>21.61</td>\n",
              "      <td>554.07</td>\n",
              "      <td>2388.03</td>\n",
              "      <td>9045.29</td>\n",
              "      <td>1.3</td>\n",
              "      <td>47.28</td>\n",
              "      <td>521.38</td>\n",
              "      <td>2388.05</td>\n",
              "      <td>8132.90</td>\n",
              "      <td>8.3917</td>\n",
              "      <td>0.03</td>\n",
              "      <td>391</td>\n",
              "      <td>2388</td>\n",
              "      <td>100.0</td>\n",
              "      <td>39.00</td>\n",
              "      <td>23.3737</td>\n",
              "    </tr>\n",
              "    <tr>\n",
              "      <th>4</th>\n",
              "      <td>1</td>\n",
              "      <td>5</td>\n",
              "      <td>0.0014</td>\n",
              "      <td>0.0000</td>\n",
              "      <td>100.0</td>\n",
              "      <td>518.67</td>\n",
              "      <td>642.51</td>\n",
              "      <td>1587.19</td>\n",
              "      <td>1401.92</td>\n",
              "      <td>14.62</td>\n",
              "      <td>21.61</td>\n",
              "      <td>554.16</td>\n",
              "      <td>2388.01</td>\n",
              "      <td>9044.55</td>\n",
              "      <td>1.3</td>\n",
              "      <td>47.31</td>\n",
              "      <td>522.15</td>\n",
              "      <td>2388.03</td>\n",
              "      <td>8129.54</td>\n",
              "      <td>8.4031</td>\n",
              "      <td>0.03</td>\n",
              "      <td>390</td>\n",
              "      <td>2388</td>\n",
              "      <td>100.0</td>\n",
              "      <td>38.99</td>\n",
              "      <td>23.4130</td>\n",
              "    </tr>\n",
              "  </tbody>\n",
              "</table>\n",
              "</div>"
            ],
            "text/plain": [
              "   0   1       2       3      4   ...   21    22     23     24       25\n",
              "0   1   1  0.0023  0.0003  100.0  ...  392  2388  100.0  38.86  23.3735\n",
              "1   1   2 -0.0027 -0.0003  100.0  ...  393  2388  100.0  39.02  23.3916\n",
              "2   1   3  0.0003  0.0001  100.0  ...  393  2388  100.0  39.08  23.4166\n",
              "3   1   4  0.0042  0.0000  100.0  ...  391  2388  100.0  39.00  23.3737\n",
              "4   1   5  0.0014  0.0000  100.0  ...  390  2388  100.0  38.99  23.4130\n",
              "\n",
              "[5 rows x 26 columns]"
            ]
          },
          "metadata": {},
          "execution_count": 9
        }
      ]
    },
    {
      "cell_type": "code",
      "metadata": {
        "colab": {
          "base_uri": "https://localhost:8080/"
        },
        "id": "BfqqtAsrobWZ",
        "outputId": "9f194802-02e8-476b-de29-9cdd75052825"
      },
      "source": [
        "true_rul = pd.read_csv('/content/drive/MyDrive/CMAPSSData/RUL_FD001.txt', sep = '\\s+', header = None)\n",
        "true_rul[0].values"
      ],
      "execution_count": 10,
      "outputs": [
        {
          "output_type": "execute_result",
          "data": {
            "text/plain": [
              "array([112,  98,  69,  82,  91,  93,  91,  95, 111,  96,  97, 124,  95,\n",
              "       107,  83,  84,  50,  28,  87,  16,  57, 111, 113,  20, 145, 119,\n",
              "        66,  97,  90, 115,   8,  48, 106,   7,  11,  19,  21,  50, 142,\n",
              "        28,  18,  10,  59, 109, 114,  47, 135,  92,  21,  79, 114,  29,\n",
              "        26,  97, 137,  15, 103,  37, 114, 100,  21,  54,  72,  28, 128,\n",
              "        14,  77,   8, 121,  94, 118,  50, 131, 126, 113,  10,  34, 107,\n",
              "        63,  90,   8,   9, 137,  58, 118,  89, 116, 115, 136,  28,  38,\n",
              "        20,  85,  55, 128, 137,  82,  59, 117,  20])"
            ]
          },
          "metadata": {},
          "execution_count": 10
        }
      ]
    },
    {
      "cell_type": "markdown",
      "metadata": {
        "id": "IXJHtYS4l1jJ"
      },
      "source": [
        "We will feed our model only sensor measurement (6-26 columns). First two columns of training data contain engine and cycle information respectively, columns 3-5 contain operational settings. we wont use those data in our analysis"
      ]
    },
    {
      "cell_type": "code",
      "metadata": {
        "id": "MzedM0sao7fP",
        "colab": {
          "base_uri": "https://localhost:8080/",
          "height": 1000
        },
        "outputId": "06a5bc8f-6cfd-4d30-a311-bff7b51fa3c3"
      },
      "source": [
        "plt.figure(figsize = (15, 21))\n",
        "for i in np.arange(5, 26):        \n",
        "    temp = train_df.iloc[:, i]\n",
        "    plt.subplot(7,3, i-4)\n",
        "    plt.violinplot(temp)\n",
        "    plt.title(\"Sensor: \"+ str(i-4))\n",
        "plt.show()"
      ],
      "execution_count": 11,
      "outputs": [
        {
          "output_type": "display_data",
          "data": {
            "image/png": "[encoded data removed]",
            "text/plain": [
              "<Figure size 1080x1512 with 21 Axes>"
            ]
          },
          "metadata": {
            "needs_background": "light"
          }
        }
      ]
    },
    {
      "cell_type": "markdown",
      "metadata": {
        "id": "wtzMSY5Zn3Ko"
      },
      "source": [
        "From the above plot we see that columns 6, 10, 15, 21, 23, and 24 contain constant values. It also appears that Column 11 also contains only a few different values.\n",
        "we are going to drop these column in our analysis"
      ]
    },
    {
      "cell_type": "code",
      "metadata": {
        "id": "qO5r_9iXnX2_"
      },
      "source": [
        "def process_input_data_with_targets(input_data, target_data = None, window_length = 1, shift = 1):\n",
        "    \"\"\"Depending on values of window_length and shift, this function generates batchs of data and targets \n",
        "    from input_data and target_data.\n",
        "    \n",
        "    Number of batches = np.floor((len(input_data) - window_length)/shift) + 1\n",
        "    \n",
        "    **We don't check input dimensions uisng exception handling. So readers should be careful while using these\n",
        "    functions. If input data are not of desired dimension, either error occurs or something undesirable is \n",
        "    produced as output.**\n",
        "    \n",
        "    Arguments:\n",
        "        input_data: input data to function (Must be 2 dimensional)\n",
        "        target_data: input rul values (Must be 1D array)s\n",
        "        window_length: window length of data\n",
        "        shift: Distance by which the window moves for next batch. This is closely related to overlap\n",
        "               between data. For example, if window length is 30 and shift is 1, there is an overlap of \n",
        "               29 data points between two consecutive batches.\n",
        "        \n",
        "    \"\"\"\n",
        "    num_batches = np.int(np.floor((len(input_data) - window_length)/shift)) + 1\n",
        "    num_features = input_data.shape[1]\n",
        "    output_data = np.repeat(np.nan, repeats = num_batches * window_length * num_features).reshape(num_batches, window_length,\n",
        "                                                                                                  num_features)\n",
        "    if target_data is None:\n",
        "        for batch in range(num_batches):\n",
        "            output_data[batch,:,:] = input_data[(0+shift*batch):(0+shift*batch+window_length),:]\n",
        "        return output_data\n",
        "    else:\n",
        "        output_targets = np.repeat(np.nan, repeats = num_batches)\n",
        "        for batch in range(num_batches):\n",
        "            output_data[batch,:,:] = input_data[(0+shift*batch):(0+shift*batch+window_length),:]\n",
        "            output_targets[batch] = target_data[(shift*batch + (window_length-1))]\n",
        "        return output_data, output_targets"
      ],
      "execution_count": 12,
      "outputs": []
    },
    {
      "cell_type": "code",
      "metadata": {
        "colab": {
          "base_uri": "https://localhost:8080/"
        },
        "id": "JvykZojlqmaE",
        "outputId": "1f71dd7c-4fe9-431e-be8d-896d9c85fe7c"
      },
      "source": [
        "\n",
        "\n",
        "data = np.array([[1,2,3,4,5],\n",
        "                 [6,7,8,9,10],\n",
        "                 [11,12,13,14,15],\n",
        "                 [16,17,18,19,20],\n",
        "                 [21,22,23,24,25],\n",
        "                 [26,27,28,29,30]])\n",
        "ruls = np.array([31,32,33,34,35,36])\n",
        "print(\"Data:\")\n",
        "print(data)\n",
        "print()\n",
        "print(\"RUL:\")\n",
        "print(ruls)\n",
        "\n"
      ],
      "execution_count": 13,
      "outputs": [
        {
          "output_type": "stream",
          "name": "stdout",
          "text": [
            "Data:\n",
            "[[ 1  2  3  4  5]\n",
            " [ 6  7  8  9 10]\n",
            " [11 12 13 14 15]\n",
            " [16 17 18 19 20]\n",
            " [21 22 23 24 25]\n",
            " [26 27 28 29 30]]\n",
            "\n",
            "RUL:\n",
            "[31 32 33 34 35 36]\n"
          ]
        }
      ]
    },
    {
      "cell_type": "code",
      "metadata": {
        "colab": {
          "base_uri": "https://localhost:8080/"
        },
        "id": "FnZdouEkqs0y",
        "outputId": "e32718d2-bb76-4b5a-8ea0-0ad2503f4007"
      },
      "source": [
        "check_data, check_rul = process_input_data_with_targets(data,target_data = ruls, window_length = 3, shift = 1)\n",
        "print(check_data)\n",
        "print()\n",
        "print(check_rul)"
      ],
      "execution_count": 14,
      "outputs": [
        {
          "output_type": "stream",
          "name": "stdout",
          "text": [
            "[[[ 1.  2.  3.  4.  5.]\n",
            "  [ 6.  7.  8.  9. 10.]\n",
            "  [11. 12. 13. 14. 15.]]\n",
            "\n",
            " [[ 6.  7.  8.  9. 10.]\n",
            "  [11. 12. 13. 14. 15.]\n",
            "  [16. 17. 18. 19. 20.]]\n",
            "\n",
            " [[11. 12. 13. 14. 15.]\n",
            "  [16. 17. 18. 19. 20.]\n",
            "  [21. 22. 23. 24. 25.]]\n",
            "\n",
            " [[16. 17. 18. 19. 20.]\n",
            "  [21. 22. 23. 24. 25.]\n",
            "  [26. 27. 28. 29. 30.]]]\n",
            "\n",
            "[33. 34. 35. 36.]\n"
          ]
        }
      ]
    },
    {
      "cell_type": "markdown",
      "metadata": {
        "id": "IdfasN-ms2E1"
      },
      "source": [
        "## Preprocessing test data"
      ]
    },
    {
      "cell_type": "code",
      "metadata": {
        "id": "MJdy79bJq6ZY"
      },
      "source": [
        "def process_test_data(test_data_for_an_engine, window_length, shift, num_test_windows = 1):\n",
        "    \"\"\" This function takes test data for an engine as first input. The next two inputs\n",
        "    window_length and shift are same as other functins. \n",
        "    \n",
        "    Finally it takes num_test_windows as the last input. num_test_windows sets how many examplles we\n",
        "    want from test data (from last). By default it extracts only the last example.\n",
        "    \n",
        "    The function return last examples and number of last examples (a scaler) as output. \n",
        "    We need the second output later. If we are extracting more than 1 last examples, we have to \n",
        "    average their prediction results. The second scaler helps us do just that.\n",
        "    \"\"\"\n",
        "    max_num_test_batches = np.int(np.floor((len(test_data_for_an_engine) - window_length)/shift)) + 1\n",
        "    if max_num_test_batches < num_test_windows:\n",
        "        required_len = (max_num_test_batches -1)* shift + window_length\n",
        "        batched_test_data_for_an_engine = process_input_data_with_targets(test_data_for_an_engine[-required_len:, :],\n",
        "                                                                          target_data = None,\n",
        "                                                                          window_length = window_length, shift = shift)\n",
        "        return batched_test_data_for_an_engine, max_num_test_batches\n",
        "    else:\n",
        "        required_len = (num_test_windows - 1) * shift + window_length\n",
        "        batched_test_data_for_an_engine = process_input_data_with_targets(test_data_for_an_engine[-required_len:, :],\n",
        "                                                                          target_data = None,\n",
        "                                                                          window_length = window_length, shift = shift)\n",
        "        return batched_test_data_for_an_engine, num_test_windows"
      ],
      "execution_count": 15,
      "outputs": []
    },
    {
      "cell_type": "code",
      "metadata": {
        "colab": {
          "base_uri": "https://localhost:8080/"
        },
        "id": "5TDKvR7Qs0_n",
        "outputId": "895387df-354b-411b-b1c9-764fb51a1241"
      },
      "source": [
        "check_data = np.reshape(np.arange(24), newshape = (6,4))\n",
        "check_data"
      ],
      "execution_count": 16,
      "outputs": [
        {
          "output_type": "execute_result",
          "data": {
            "text/plain": [
              "array([[ 0,  1,  2,  3],\n",
              "       [ 4,  5,  6,  7],\n",
              "       [ 8,  9, 10, 11],\n",
              "       [12, 13, 14, 15],\n",
              "       [16, 17, 18, 19],\n",
              "       [20, 21, 22, 23]])"
            ]
          },
          "metadata": {},
          "execution_count": 16
        }
      ]
    },
    {
      "cell_type": "code",
      "metadata": {
        "colab": {
          "base_uri": "https://localhost:8080/"
        },
        "id": "14RmKBgBtVmm",
        "outputId": "991d0d6a-9a24-4fbb-93cd-b0cec85256ad"
      },
      "source": [
        "last_examples, num_last_examples = process_test_data(check_data, window_length = 2, shift = 1, num_test_windows= 1)\n",
        "print(last_examples)\n",
        "print()\n",
        "print(num_last_examples)"
      ],
      "execution_count": 17,
      "outputs": [
        {
          "output_type": "stream",
          "name": "stdout",
          "text": [
            "[[[16. 17. 18. 19.]\n",
            "  [20. 21. 22. 23.]]]\n",
            "\n",
            "1\n"
          ]
        }
      ]
    },
    {
      "cell_type": "code",
      "metadata": {
        "colab": {
          "base_uri": "https://localhost:8080/"
        },
        "id": "6kxFnnUJtYlK",
        "outputId": "402e3efd-ca44-4ef0-8aec-b974c26ab9eb"
      },
      "source": [
        "window_length = 1\n",
        "shift = 1\n",
        "processed_train_data = []\n",
        "processed_train_targets = []\n",
        "\n",
        "# How many test windows to take for each engine. If set to 1 (this is the default), only last window of test data for \n",
        "# each engine is taken. If set to a different number, that many windows from last are taken. \n",
        "# Final output is the average output of all windows.\n",
        "num_test_windows = 5     \n",
        "processed_test_data = []\n",
        "num_test_windows_list = []\n",
        "\n",
        "columns_to_be_dropped = [0,1,2,3,4,5,9,10,14,20,22,23]\n",
        "\n",
        "train_data_first_column = train_df[0]\n",
        "test_data_first_column = test_df[0]\n",
        "\n",
        "# Scale data for all engines\n",
        "scaler = StandardScaler()\n",
        "train_df = scaler.fit_transform(train_df.drop(columns = columns_to_be_dropped))\n",
        "test_df = scaler.transform(test_df.drop(columns = columns_to_be_dropped))\n",
        "\n",
        "train_df = pd.DataFrame(data = np.c_[train_data_first_column, train_df])\n",
        "test_df = pd.DataFrame(data = np.c_[test_data_first_column, test_df])\n",
        "\n",
        "num_train_machines = len(train_df[0].unique())\n",
        "num_test_machines = len(test_df[0].unique())\n",
        "\n",
        "# Process training and test data sepeartely as number of engines in training and test set may be different.\n",
        "# As we are doing scaling for full dataset, we are not bothered by different number of engines in training and test set.\n",
        "\n",
        "# Process trianing data\n",
        "for i in np.arange(1, num_train_machines + 1):\n",
        "    temp_train_data = train_df[train_df[0] == i].drop(columns = [0]).values\n",
        "    \n",
        "    # Verify if data of given window length can be extracted from training data\n",
        "    if (len(temp_train_data) < window_length):\n",
        "        print(\"Train engine {} doesn't have enough data for window_length of {}\".format(i, window_length))\n",
        "        raise AssertionError(\"Window length is larger than number of data points for some engines. \"\n",
        "                             \"Try decreasing window length.\")\n",
        "        \n",
        "    temp_train_targets = process_targets(data_length = temp_train_data.shape[0])\n",
        "    data_for_a_machine, targets_for_a_machine = process_input_data_with_targets(temp_train_data, temp_train_targets, \n",
        "                                                                                window_length = window_length, shift = shift)\n",
        "    \n",
        "    processed_train_data.append(data_for_a_machine)\n",
        "    processed_train_targets.append(targets_for_a_machine)\n",
        "\n",
        "processed_train_data = np.concatenate(processed_train_data)\n",
        "processed_train_targets = np.concatenate(processed_train_targets)\n",
        "\n",
        "# Process test data\n",
        "for i in np.arange(1, num_test_machines + 1):\n",
        "    temp_test_data = test_df[test_df[0] == i].drop(columns = [0]).values\n",
        "    \n",
        "    # Verify if data of given window length can be extracted from test data\n",
        "    if (len(temp_test_data) < window_length):\n",
        "        print(\"Test engine {} doesn't have enough data for window_length of {}\".format(i, window_length))\n",
        "        raise AssertionError(\"Window length is larger than number of data points for some engines. \"\n",
        "                             \"Try decreasing window length.\")\n",
        "    \n",
        "    # Prepare test data\n",
        "    test_data_for_an_engine, num_windows = process_test_data(temp_test_data, window_length = window_length, shift = shift,\n",
        "                                                             num_test_windows = num_test_windows)\n",
        "    \n",
        "    processed_test_data.append(test_data_for_an_engine)\n",
        "    num_test_windows_list.append(num_windows)\n",
        "\n",
        "processed_test_data = np.concatenate(processed_test_data)\n",
        "true_rul = true_rul[0].values\n",
        "\n",
        "# Shuffle training data\n",
        "index = np.random.permutation(len(processed_train_targets))\n",
        "processed_train_data, processed_train_targets = processed_train_data[index], processed_train_targets[index]\n",
        "\n",
        "print(\"Processed trianing data shape: \", processed_train_data.shape)\n",
        "print(\"Processed training ruls shape: \", processed_train_targets.shape)\n",
        "print(\"Processed test data shape: \", processed_test_data.shape)\n",
        "print(\"True RUL shape: \", true_rul.shape)"
      ],
      "execution_count": 18,
      "outputs": [
        {
          "output_type": "stream",
          "name": "stdout",
          "text": [
            "Processed trianing data shape:  (20631, 1, 14)\n",
            "Processed training ruls shape:  (20631,)\n",
            "Processed test data shape:  (500, 1, 14)\n",
            "True RUL shape:  (100,)\n"
          ]
        }
      ]
    },
    {
      "cell_type": "code",
      "metadata": {
        "id": "LBIKOPNzvmfU",
        "colab": {
          "base_uri": "https://localhost:8080/"
        },
        "outputId": "647b3301-c198-4efa-8036-59a921a2ae41"
      },
      "source": [
        "processed_train_data = processed_train_data.reshape(-1, processed_train_data.shape[2])\n",
        "processed_test_data = processed_test_data.reshape(-1, processed_test_data.shape[2])\n",
        "print(\"Processed train data shape: \", processed_train_data.shape)\n",
        "print(\"Processed test data shape: \", processed_test_data.shape)\n",
        "\n"
      ],
      "execution_count": 19,
      "outputs": [
        {
          "output_type": "stream",
          "name": "stdout",
          "text": [
            "Processed train data shape:  (20631, 14)\n",
            "Processed test data shape:  (500, 14)\n"
          ]
        }
      ]
    },
    {
      "cell_type": "markdown",
      "metadata": {
        "id": "sxfsFEe52fDf"
      },
      "source": [
        "# RUL PREDICTION\n"
      ]
    },
    {
      "cell_type": "code",
      "metadata": {
        "id": "lxyc4jnLu4Ft"
      },
      "source": [
        "import sklearn\n",
        "from sklearn.ensemble import RandomForestRegressor\n",
        "from sklearn.svm import SVR\n",
        "from sklearn.metrics import mean_squared_error\n",
        "from sklearn.model_selection import GridSearchCV, RandomizedSearchCV\n",
        "from xgboost import XGBRegressor"
      ],
      "execution_count": 20,
      "outputs": []
    },
    {
      "cell_type": "markdown",
      "metadata": {
        "id": "rz2a9Z_c2o1l"
      },
      "source": [
        "## 1. RUL prediction using Random Forest Regressor\n",
        " ### hyperparameter tuning usin randomisedSearchCV"
      ]
    },
    {
      "cell_type": "code",
      "metadata": {
        "colab": {
          "base_uri": "https://localhost:8080/"
        },
        "id": "2ue6QC62Btok",
        "outputId": "bdeba4bb-5955-41d7-9f16-d2fcd29a3e11"
      },
      "source": [
        "param_grid = {\"n_estimators\": [120, 300, 500, 800, 1200],\n",
        "              'max_depth' : [5, 8, 15, 25, 30],\n",
        "              'min_samples_split' : [2, 5, 10, 15, 100],\n",
        "              'min_samples_leaf' : [1, 2, 5, 10],\n",
        "              \"max_features\": [\"auto\", \"sqrt\", \"log2\"]}\n",
        "grid = RandomizedSearchCV(RandomForestRegressor(), param_distributions = param_grid,scoring = \"neg_root_mean_squared_error\",\n",
        "                    n_jobs = -1, cv = 3, n_iter = 20)\n",
        "grid.fit(processed_train_data, processed_train_targets)"
      ],
      "execution_count": 29,
      "outputs": [
        {
          "output_type": "stream",
          "name": "stderr",
          "text": [
            "/usr/local/lib/python3.7/dist-packages/joblib/externals/loky/process_executor.py:705: UserWarning: A worker stopped while some jobs were given to the executor. This can be caused by a too short worker timeout or by a memory leak.\n",
            "  \"timeout or by a memory leak.\", UserWarning\n"
          ]
        },
        {
          "output_type": "execute_result",
          "data": {
            "text/plain": [
              "RandomizedSearchCV(cv=3, estimator=RandomForestRegressor(), n_iter=20,\n",
              "                   n_jobs=-1,\n",
              "                   param_distributions={'max_depth': [5, 8, 15, 25, 30],\n",
              "                                        'max_features': ['auto', 'sqrt',\n",
              "                                                         'log2'],\n",
              "                                        'min_samples_leaf': [1, 2, 5, 10],\n",
              "                                        'min_samples_split': [2, 5, 10, 15,\n",
              "                                                              100],\n",
              "                                        'n_estimators': [120, 300, 500, 800,\n",
              "                                                         1200]},\n",
              "                   scoring='neg_root_mean_squared_error')"
            ]
          },
          "metadata": {},
          "execution_count": 29
        }
      ]
    },
    {
      "cell_type": "code",
      "metadata": {
        "colab": {
          "base_uri": "https://localhost:8080/"
        },
        "id": "gcjSyJGXXFQM",
        "outputId": "db9cf084-f077-4cd1-9032-43f76ea104b0"
      },
      "source": [
        "best_rf_model = grid.best_estimator_\n",
        "best_rf_model"
      ],
      "execution_count": 30,
      "outputs": [
        {
          "output_type": "execute_result",
          "data": {
            "text/plain": [
              "RandomForestRegressor(max_depth=15, max_features='sqrt', min_samples_split=5,\n",
              "                      n_estimators=1200)"
            ]
          },
          "metadata": {},
          "execution_count": 30
        }
      ]
    },
    {
      "cell_type": "markdown",
      "metadata": {
        "id": "AEMP_ameZBeT"
      },
      "source": [
        "\n",
        "We will use the best model to predict on test set."
      ]
    },
    {
      "cell_type": "code",
      "metadata": {
        "colab": {
          "base_uri": "https://localhost:8080/"
        },
        "id": "0TtknfkdtlfN",
        "outputId": "48b359ea-06ff-4a9d-c166-b3d90626f5f1"
      },
      "source": [
        "rf_model = RandomForestRegressor(max_depth=15, n_estimators=300, max_features = \"sqrt\",min_samples_split=5,\n",
        "                                 n_jobs = -1, random_state = 38, )\n",
        "rf_model.fit(processed_train_data, processed_train_targets)\n",
        "rul_pred = rf_model.predict(processed_test_data)\n",
        "\n",
        "# First split predictions according to number of windows of each engine\n",
        "preds_for_each_engine = np.split(rul_pred, np.cumsum(num_test_windows_list)[:-1])\n",
        "mean_pred_for_each_engine = [np.average(ruls_for_each_engine, weights = np.repeat(1/num_windows, num_windows)) \n",
        "                             for ruls_for_each_engine, num_windows in zip(preds_for_each_engine, num_test_windows_list)]\n",
        "RMSE = np.sqrt(mean_squared_error(true_rul, mean_pred_for_each_engine))\n",
        "print(\"RMSE: \", RMSE)"
      ],
      "execution_count": 31,
      "outputs": [
        {
          "output_type": "stream",
          "name": "stdout",
          "text": [
            "RMSE:  33.048290781204145\n"
          ]
        }
      ]
    },
    {
      "cell_type": "markdown",
      "metadata": {
        "id": "BswtaUhrZP19"
      },
      "source": [
        "Now we take only the last example of every engine to make predictions and calculate RUL\n",
        "we can see there is a decrease in RMSE"
      ]
    },
    {
      "cell_type": "code",
      "metadata": {
        "colab": {
          "base_uri": "https://localhost:8080/"
        },
        "id": "f2a8qZIbX6AJ",
        "outputId": "8d97e399-20da-45e2-88df-8c1dcc6ab096"
      },
      "source": [
        "indices_of_last_examples = np.cumsum(num_test_windows_list) - 1\n",
        "preds_for_last_example = np.concatenate(preds_for_each_engine)[indices_of_last_examples]\n",
        "\n",
        "RMSE_new = np.sqrt(mean_squared_error(true_rul, preds_for_last_example))\n",
        "print(\"RMSE (Taking only last example): \", RMSE_new)"
      ],
      "execution_count": 32,
      "outputs": [
        {
          "output_type": "stream",
          "name": "stdout",
          "text": [
            "RMSE (Taking only last example):  31.64183060043\n"
          ]
        }
      ]
    },
    {
      "cell_type": "markdown",
      "metadata": {
        "id": "-x2kfds83B60"
      },
      "source": [
        "## 2.:RUL prediction using Support Vector Regression (SVR)\n",
        " ### hyperparameter tuning usin GridSearchCV"
      ]
    },
    {
      "cell_type": "code",
      "metadata": {
        "colab": {
          "base_uri": "https://localhost:8080/"
        },
        "id": "-E-fm8M207AW",
        "outputId": "41793730-d195-4e38-c32a-5ffc40ff0f84"
      },
      "source": [
        "parameters = {\"C\":[ 50, 100,500, 1000],\n",
        "             'epsilon':[0.1,1, 5],\n",
        "             'kernel':[\"rbf\"]}\n",
        "tuned_svm_reg = GridSearchCV(SVR(),parameters,n_jobs = -1, cv= 3, verbose=3 )\n",
        "tuned_svm_reg.fit(processed_train_data, processed_train_targets)"
      ],
      "execution_count": 33,
      "outputs": [
        {
          "output_type": "stream",
          "name": "stdout",
          "text": [
            "Fitting 3 folds for each of 12 candidates, totalling 36 fits\n"
          ]
        },
        {
          "output_type": "execute_result",
          "data": {
            "text/plain": [
              "GridSearchCV(cv=3, estimator=SVR(), n_jobs=-1,\n",
              "             param_grid={'C': [50, 100, 500, 1000], 'epsilon': [0.1, 1, 5],\n",
              "                         'kernel': ['rbf']},\n",
              "             verbose=3)"
            ]
          },
          "metadata": {},
          "execution_count": 33
        }
      ]
    },
    {
      "cell_type": "code",
      "metadata": {
        "colab": {
          "base_uri": "https://localhost:8080/"
        },
        "id": "JDKpPsC71KE0",
        "outputId": "0c919cb6-1720-4094-9e10-621ee39c4716"
      },
      "source": [
        "best_svr_model = tuned_svm_reg.best_estimator_\n",
        "best_svr_model"
      ],
      "execution_count": 34,
      "outputs": [
        {
          "output_type": "execute_result",
          "data": {
            "text/plain": [
              "SVR(C=50, epsilon=5)"
            ]
          },
          "metadata": {},
          "execution_count": 34
        }
      ]
    },
    {
      "cell_type": "code",
      "metadata": {
        "colab": {
          "base_uri": "https://localhost:8080/"
        },
        "id": "uXwD_Xi0wFWt",
        "outputId": "68ab32a1-1ef4-46d1-93fd-3aadfafc93a1"
      },
      "source": [
        "best_svr_model.fit(processed_train_data, processed_train_targets)\n",
        "rul_svr = best_svr_model.predict(processed_test_data)\n",
        "\n",
        "# First split predictions according to number of windows of each engine\n",
        "preds_for_each_engine_2 = np.split(rul_svr, np.cumsum(num_test_windows_list)[:-1])\n",
        "mean_pred_for_each_engine_2 = [np.average(ruls_for_each_engine, weights = np.repeat(1/num_windows, num_windows)) \n",
        "                               for ruls_for_each_engine, num_windows in zip(preds_for_each_engine_2, num_test_windows_list)]\n",
        "RMSE_2 = np.sqrt(mean_squared_error(true_rul, mean_pred_for_each_engine_2))\n",
        "print(\"RMSE: \", RMSE_2)"
      ],
      "execution_count": 36,
      "outputs": [
        {
          "output_type": "stream",
          "name": "stdout",
          "text": [
            "RMSE:  29.223782635068282\n"
          ]
        }
      ]
    },
    {
      "cell_type": "code",
      "metadata": {
        "colab": {
          "base_uri": "https://localhost:8080/"
        },
        "id": "1gAxkIvqXzkr",
        "outputId": "bddc73a4-e1df-404f-b65b-ebcafdeea036"
      },
      "source": [
        "indices_of_last_examples = np.cumsum(num_test_windows_list) - 1\n",
        "preds_for_last_example_2 = np.concatenate(preds_for_each_engine_2)[indices_of_last_examples]\n",
        "\n",
        "RMSE_new_2 = np.sqrt(mean_squared_error(true_rul, preds_for_last_example_2))\n",
        "print(\"RMSE (Taking only last example): \", RMSE_new_2)"
      ],
      "execution_count": 37,
      "outputs": [
        {
          "output_type": "stream",
          "name": "stdout",
          "text": [
            "RMSE (Taking only last example):  28.572689907721287\n"
          ]
        }
      ]
    },
    {
      "cell_type": "markdown",
      "metadata": {
        "id": "tyKZ6saO7enP"
      },
      "source": [
        "## *3*.:RUL prediction using XGBoost Regressor\n",
        "  ### hyperparameter tuning using randomisedSearchCV"
      ]
    },
    {
      "cell_type": "code",
      "metadata": {
        "id": "AV1mrKERwbcl",
        "colab": {
          "base_uri": "https://localhost:8080/"
        },
        "outputId": "ec5ff5b1-c7cd-458d-e4b1-d99f10f53d27"
      },
      "source": [
        "xgb_params = {\n",
        "    'eta' : [0.01,0.015, 0.025, 0.05, 0.1],\n",
        "    'gamma' : [0.05,0.1,0.3,0.5,0.7,0.9,1.0],\n",
        "    'max_depth': [3, 5, 7, 9, 12, 15, 17, 25],\n",
        "    'min_child_weight':[1, 3, 5, 7],\n",
        "    'subsample': [0.6, 0.7, 0.8, 0.9, 1.0],\n",
        "    'colsample_bytree': [0.6, 0.7, 0.8, 0.9, 1.0]\n",
        "}\n",
        "\n",
        "rs_xgb = RandomizedSearchCV(estimator=XGBRegressor(),param_distributions=xgb_params,\n",
        "                            cv = 3, n_iter = 20, n_jobs=-1,\n",
        "                           scoring='neg_mean_squared_error')\n",
        "rs_xgb.fit(processed_train_data, processed_train_targets)\n",
        "\n",
        "print(\"\\n The best score across ALL searched params:\\n\",\n",
        "      np.sqrt(-rs_xgb.best_score_))\n",
        "\n",
        "print(\"\\n The best parameters across ALL searched params:\\n\",\n",
        "      rs_xgb.best_params_)"
      ],
      "execution_count": 38,
      "outputs": [
        {
          "output_type": "stream",
          "name": "stdout",
          "text": [
            "[12:49:41] WARNING: /workspace/src/objective/regression_obj.cu:152: reg:linear is now deprecated in favor of reg:squarederror.\n",
            "\n",
            " The best score across ALL searched params:\n",
            " 41.52792682211321\n",
            "\n",
            " The best parameters across ALL searched params:\n",
            " {'subsample': 0.7, 'min_child_weight': 5, 'max_depth': 5, 'gamma': 0.9, 'eta': 0.05, 'colsample_bytree': 0.8}\n"
          ]
        }
      ]
    },
    {
      "cell_type": "code",
      "metadata": {
        "colab": {
          "base_uri": "https://localhost:8080/"
        },
        "id": "mCCAHxrO-dmO",
        "outputId": "ece4328a-1afa-4f77-f22e-2ac626fc1f5d"
      },
      "source": [
        "best_xgb_model = rs_xgb.best_estimator_\n",
        "best_xgb_model"
      ],
      "execution_count": 39,
      "outputs": [
        {
          "output_type": "execute_result",
          "data": {
            "text/plain": [
              "XGBRegressor(colsample_bytree=0.8, eta=0.05, gamma=0.9, max_depth=5,\n",
              "             min_child_weight=5, subsample=0.7)"
            ]
          },
          "metadata": {},
          "execution_count": 39
        }
      ]
    },
    {
      "cell_type": "code",
      "metadata": {
        "colab": {
          "base_uri": "https://localhost:8080/"
        },
        "id": "R7vuOXJoAHcJ",
        "outputId": "92a8fea8-c0eb-40b5-eb81-ce48227fdb72"
      },
      "source": [
        "best_xgb_model.fit(processed_train_data, processed_train_targets)\n",
        "rul_xgb = best_xgb_model.predict(processed_test_data)\n",
        "\n",
        "# First split predictions according to number of windows of each engine\n",
        "preds_for_each_engine_3 = np.split(rul_xgb, np.cumsum(num_test_windows_list)[:-1])\n",
        "mean_pred_for_each_engine_3 = [np.average(ruls_for_each_engine, weights = np.repeat(1/num_windows, num_windows)) \n",
        "                               for ruls_for_each_engine, num_windows in zip(preds_for_each_engine_3, num_test_windows_list)]\n",
        "RMSE_3 = np.sqrt(mean_squared_error(true_rul, mean_pred_for_each_engine_3))\n",
        "print(\"RMSE: \", RMSE_3)"
      ],
      "execution_count": 40,
      "outputs": [
        {
          "output_type": "stream",
          "name": "stdout",
          "text": [
            "[12:49:44] WARNING: /workspace/src/objective/regression_obj.cu:152: reg:linear is now deprecated in favor of reg:squarederror.\n",
            "RMSE:  33.0770156673427\n"
          ]
        }
      ]
    },
    {
      "cell_type": "code",
      "metadata": {
        "colab": {
          "base_uri": "https://localhost:8080/"
        },
        "id": "FxQ31dQCAaGd",
        "outputId": "c0a83915-ae7a-40f4-c89e-23ea09f786ea"
      },
      "source": [
        "indices_of_last_examples = np.cumsum(num_test_windows_list) - 1\n",
        "preds_for_last_example_3 = np.concatenate(preds_for_each_engine_3)[indices_of_last_examples]\n",
        "\n",
        "RMSE_new_3 = np.sqrt(mean_squared_error(true_rul, preds_for_last_example_3))\n",
        "print(\"RMSE (Taking only last example): \", RMSE_new_3)"
      ],
      "execution_count": 41,
      "outputs": [
        {
          "output_type": "stream",
          "name": "stdout",
          "text": [
            "RMSE (Taking only last example):  33.37205980026895\n"
          ]
        }
      ]
    },
    {
      "cell_type": "code",
      "metadata": {
        "colab": {
          "base_uri": "https://localhost:8080/",
          "height": 295
        },
        "id": "0XcYBOCEBQZ4",
        "outputId": "e0747d02-73fb-4751-b40f-1fd587ee6cbb"
      },
      "source": [
        "feature_importance = rf_model.feature_importances_\n",
        "indices = np.argsort(feature_importance)[::-1]\n",
        "num_features = processed_train_data.shape[1]\n",
        "plt.figure()\n",
        "plt.title(\"Feature importances\")\n",
        "plt.bar(range(num_features), feature_importance[indices],\n",
        "        color=\"blue\", align=\"center\")\n",
        "plt.xticks(range(num_features), indices)\n",
        "plt.xlim([-1, num_features])\n",
        "plt.xlabel(\"Feature Columns\")\n",
        "plt.show()"
      ],
      "execution_count": 42,
      "outputs": [
        {
          "output_type": "display_data",
          "data": {
            "image/png": "[encoded data removed]",
            "text/plain": [
              "<Figure size 432x288 with 1 Axes>"
            ]
          },
          "metadata": {
            "needs_background": "light"
          }
        }
      ]
    },
    {
      "cell_type": "code",
      "metadata": {
        "id": "KU70eMiAaQ0B"
      },
      "source": [
        ""
      ],
      "execution_count": null,
      "outputs": []
    }
  ]
}